{
 "cells": [
  {
   "cell_type": "markdown",
   "metadata": {},
   "source": [
    "## 1.- Diccionario de atributos\n",
    "\n",
    "anime_id - Identificador de anime de la pagina myanimelist.net's, es unico para cada anime.\n",
    "\n",
    "name - Nombre Completo del anime.\n",
    "\n",
    "genre - Genero del anime.\n",
    "\n",
    "type - Serie, pelicula, Ova etc.\n",
    "\n",
    "episodes - Cuantos Episodios tiene.\n",
    "\n",
    "rating - Puntuación del anime.\n",
    "\n",
    "members - Numero de miembros en su grupo de fans.\n",
    "\n",
    "user_id - Codigo de identificación de usuario, se genera aleatoreamente. \n",
    "\n",
    "rating - Puntuación de 1 a 10. El valor -1 denota animes vistos por el usuario pero no puntuados."
   ]
  },
  {
   "cell_type": "markdown",
   "metadata": {},
   "source": [
    "## 2.- Importación de Librerias"
   ]
  },
  {
   "cell_type": "code",
   "execution_count": 1,
   "metadata": {},
   "outputs": [],
   "source": [
    "import dask.dataframe as dd\n",
    "from numba import jit\n",
    "import numpy as np\n",
    "import pandas as pd\n",
    "import seaborn as sns\n",
    "from scipy import stats\n",
    "from surprise import Reader\n",
    "from surprise import Dataset\n",
    "from surprise.model_selection import cross_validate\n",
    "from surprise import SlopeOne\n",
    "from surprise import CoClustering\n",
    "from surprise import BaselineOnly\n",
    "from surprise.accuracy import rmse\n",
    "from surprise import accuracy\n",
    "from surprise.model_selection import train_test_split\n",
    "from collections import defaultdict\n",
    "#Para recordarme que estoy trabajando:\n",
    "import winsound\n",
    "duration = 3000\n",
    "freq = 880 "
   ]
  },
  {
   "cell_type": "markdown",
   "metadata": {},
   "source": [
    "## 3.- Importación de Datos"
   ]
  },
  {
   "cell_type": "code",
   "execution_count": 2,
   "metadata": {},
   "outputs": [
    {
     "data": {
      "text/html": [
       "<div>\n",
       "<style scoped>\n",
       "    .dataframe tbody tr th:only-of-type {\n",
       "        vertical-align: middle;\n",
       "    }\n",
       "\n",
       "    .dataframe tbody tr th {\n",
       "        vertical-align: top;\n",
       "    }\n",
       "\n",
       "    .dataframe thead th {\n",
       "        text-align: right;\n",
       "    }\n",
       "</style>\n",
       "<table border=\"1\" class=\"dataframe\">\n",
       "  <thead>\n",
       "    <tr style=\"text-align: right;\">\n",
       "      <th></th>\n",
       "      <th>user_id</th>\n",
       "      <th>anime_id</th>\n",
       "      <th>rating</th>\n",
       "    </tr>\n",
       "  </thead>\n",
       "  <tbody>\n",
       "    <tr>\n",
       "      <td>0</td>\n",
       "      <td>1</td>\n",
       "      <td>20</td>\n",
       "      <td>-1</td>\n",
       "    </tr>\n",
       "    <tr>\n",
       "      <td>1</td>\n",
       "      <td>1</td>\n",
       "      <td>24</td>\n",
       "      <td>-1</td>\n",
       "    </tr>\n",
       "  </tbody>\n",
       "</table>\n",
       "</div>"
      ],
      "text/plain": [
       "   user_id  anime_id  rating\n",
       "0        1        20      -1\n",
       "1        1        24      -1"
      ]
     },
     "execution_count": 2,
     "metadata": {},
     "output_type": "execute_result"
    }
   ],
   "source": [
    "ratings = dd.read_csv('rating.csv')\n",
    "ratings.head(2)"
   ]
  },
  {
   "cell_type": "code",
   "execution_count": 3,
   "metadata": {},
   "outputs": [],
   "source": [
    "#Para evitar confusiones con los nombres\n",
    "ratings=ratings.rename(columns = {'rating':'user_rating'})"
   ]
  },
  {
   "cell_type": "code",
   "execution_count": 4,
   "metadata": {},
   "outputs": [
    {
     "data": {
      "text/html": [
       "<div>\n",
       "<style scoped>\n",
       "    .dataframe tbody tr th:only-of-type {\n",
       "        vertical-align: middle;\n",
       "    }\n",
       "\n",
       "    .dataframe tbody tr th {\n",
       "        vertical-align: top;\n",
       "    }\n",
       "\n",
       "    .dataframe thead th {\n",
       "        text-align: right;\n",
       "    }\n",
       "</style>\n",
       "<table border=\"1\" class=\"dataframe\">\n",
       "  <thead>\n",
       "    <tr style=\"text-align: right;\">\n",
       "      <th></th>\n",
       "      <th>anime_id</th>\n",
       "      <th>name</th>\n",
       "      <th>genre</th>\n",
       "      <th>type</th>\n",
       "      <th>episodes</th>\n",
       "      <th>rating</th>\n",
       "      <th>members</th>\n",
       "    </tr>\n",
       "  </thead>\n",
       "  <tbody>\n",
       "    <tr>\n",
       "      <td>0</td>\n",
       "      <td>32281</td>\n",
       "      <td>Kimi no Na wa.</td>\n",
       "      <td>Drama, Romance, School, Supernatural</td>\n",
       "      <td>Movie</td>\n",
       "      <td>1</td>\n",
       "      <td>9.37</td>\n",
       "      <td>200630</td>\n",
       "    </tr>\n",
       "    <tr>\n",
       "      <td>1</td>\n",
       "      <td>5114</td>\n",
       "      <td>Fullmetal Alchemist: Brotherhood</td>\n",
       "      <td>Action, Adventure, Drama, Fantasy, Magic, Mili...</td>\n",
       "      <td>TV</td>\n",
       "      <td>64</td>\n",
       "      <td>9.26</td>\n",
       "      <td>793665</td>\n",
       "    </tr>\n",
       "  </tbody>\n",
       "</table>\n",
       "</div>"
      ],
      "text/plain": [
       "   anime_id                              name  \\\n",
       "0     32281                    Kimi no Na wa.   \n",
       "1      5114  Fullmetal Alchemist: Brotherhood   \n",
       "\n",
       "                                               genre   type episodes  rating  \\\n",
       "0               Drama, Romance, School, Supernatural  Movie        1    9.37   \n",
       "1  Action, Adventure, Drama, Fantasy, Magic, Mili...     TV       64    9.26   \n",
       "\n",
       "   members  \n",
       "0   200630  \n",
       "1   793665  "
      ]
     },
     "execution_count": 4,
     "metadata": {},
     "output_type": "execute_result"
    }
   ],
   "source": [
    "#importamos la data de anime\n",
    "anime = dd.read_csv('anime.csv')\n",
    "anime.head(2)"
   ]
  },
  {
   "cell_type": "markdown",
   "metadata": {},
   "source": [
    "### 3.1- Exploración de datos"
   ]
  },
  {
   "cell_type": "code",
   "execution_count": 5,
   "metadata": {},
   "outputs": [
    {
     "data": {
      "text/plain": [
       "73515"
      ]
     },
     "execution_count": 5,
     "metadata": {},
     "output_type": "execute_result"
    }
   ],
   "source": [
    "#Numero de usuarios unicos \n",
    "ratings.user_id.nunique().compute()"
   ]
  },
  {
   "cell_type": "code",
   "execution_count": 6,
   "metadata": {},
   "outputs": [
    {
     "data": {
      "text/html": [
       "<div>\n",
       "<style scoped>\n",
       "    .dataframe tbody tr th:only-of-type {\n",
       "        vertical-align: middle;\n",
       "    }\n",
       "\n",
       "    .dataframe tbody tr th {\n",
       "        vertical-align: top;\n",
       "    }\n",
       "\n",
       "    .dataframe thead th {\n",
       "        text-align: right;\n",
       "    }\n",
       "</style>\n",
       "<table border=\"1\" class=\"dataframe\">\n",
       "  <thead>\n",
       "    <tr style=\"text-align: right;\">\n",
       "      <th></th>\n",
       "      <th>user_id</th>\n",
       "      <th>anime_id</th>\n",
       "      <th>user_rating</th>\n",
       "    </tr>\n",
       "  </thead>\n",
       "  <tbody>\n",
       "    <tr>\n",
       "      <td>count</td>\n",
       "      <td>7.813737e+06</td>\n",
       "      <td>7.813737e+06</td>\n",
       "      <td>7.813737e+06</td>\n",
       "    </tr>\n",
       "    <tr>\n",
       "      <td>mean</td>\n",
       "      <td>3.672796e+04</td>\n",
       "      <td>8.909072e+03</td>\n",
       "      <td>6.144030e+00</td>\n",
       "    </tr>\n",
       "    <tr>\n",
       "      <td>std</td>\n",
       "      <td>2.099795e+04</td>\n",
       "      <td>8.883950e+03</td>\n",
       "      <td>3.727800e+00</td>\n",
       "    </tr>\n",
       "    <tr>\n",
       "      <td>min</td>\n",
       "      <td>1.000000e+00</td>\n",
       "      <td>1.000000e+00</td>\n",
       "      <td>-1.000000e+00</td>\n",
       "    </tr>\n",
       "    <tr>\n",
       "      <td>25%</td>\n",
       "      <td>1.079600e+04</td>\n",
       "      <td>1.569000e+03</td>\n",
       "      <td>6.000000e+00</td>\n",
       "    </tr>\n",
       "    <tr>\n",
       "      <td>50%</td>\n",
       "      <td>3.110500e+04</td>\n",
       "      <td>6.956000e+03</td>\n",
       "      <td>7.000000e+00</td>\n",
       "    </tr>\n",
       "    <tr>\n",
       "      <td>75%</td>\n",
       "      <td>6.524700e+04</td>\n",
       "      <td>1.475100e+04</td>\n",
       "      <td>9.000000e+00</td>\n",
       "    </tr>\n",
       "    <tr>\n",
       "      <td>max</td>\n",
       "      <td>7.351600e+04</td>\n",
       "      <td>3.451900e+04</td>\n",
       "      <td>1.000000e+01</td>\n",
       "    </tr>\n",
       "  </tbody>\n",
       "</table>\n",
       "</div>"
      ],
      "text/plain": [
       "            user_id      anime_id   user_rating\n",
       "count  7.813737e+06  7.813737e+06  7.813737e+06\n",
       "mean   3.672796e+04  8.909072e+03  6.144030e+00\n",
       "std    2.099795e+04  8.883950e+03  3.727800e+00\n",
       "min    1.000000e+00  1.000000e+00 -1.000000e+00\n",
       "25%    1.079600e+04  1.569000e+03  6.000000e+00\n",
       "50%    3.110500e+04  6.956000e+03  7.000000e+00\n",
       "75%    6.524700e+04  1.475100e+04  9.000000e+00\n",
       "max    7.351600e+04  3.451900e+04  1.000000e+01"
      ]
     },
     "execution_count": 6,
     "metadata": {},
     "output_type": "execute_result"
    },
    {
     "data": {
      "image/png": "[encoded data removed]",
      "text/plain": [
       "<Figure size 432x288 with 1 Axes>"
      ]
     },
     "metadata": {
      "needs_background": "light"
     },
     "output_type": "display_data"
    }
   ],
   "source": [
    "#información basica sobre sobre ratings\n",
    "sns.distplot(ratings.user_rating)\n",
    "ratings.describe().compute()"
   ]
  },
  {
   "cell_type": "markdown",
   "metadata": {},
   "source": [
    "Veamos en más detalle los datos de los usuarios"
   ]
  },
  {
   "cell_type": "code",
   "execution_count": 7,
   "metadata": {},
   "outputs": [],
   "source": [
    "users=ratings.groupby('user_id').agg({'user_rating':['mean','count','std']})\n",
    "users.columns=['media','n_puntuaciones','std_puntuaciones']"
   ]
  },
  {
   "cell_type": "code",
   "execution_count": 8,
   "metadata": {},
   "outputs": [
    {
     "data": {
      "text/plain": [
       "count    73515.000000\n",
       "mean         6.647726\n",
       "std          2.947754\n",
       "min         -1.000000\n",
       "25%          6.472973\n",
       "50%          7.678082\n",
       "75%          8.377330\n",
       "max         10.000000\n",
       "Name: media, dtype: float64"
      ]
     },
     "execution_count": 8,
     "metadata": {},
     "output_type": "execute_result"
    },
    {
     "data": {
      "image/png": "[encoded data removed]",
      "text/plain": [
       "<Figure size 432x288 with 1 Axes>"
      ]
     },
     "metadata": {
      "needs_background": "light"
     },
     "output_type": "display_data"
    }
   ],
   "source": [
    "sns.distplot(users.media,kde=False)\n",
    "users.media.describe().compute()"
   ]
  },
  {
   "cell_type": "code",
   "execution_count": 9,
   "metadata": {},
   "outputs": [
    {
     "data": {
      "text/plain": [
       "count    73515.000000\n",
       "mean       106.287656\n",
       "std        153.086558\n",
       "min          1.000000\n",
       "25%         18.000000\n",
       "50%         57.000000\n",
       "75%        136.000000\n",
       "max      10227.000000\n",
       "Name: n_puntuaciones, dtype: float64"
      ]
     },
     "execution_count": 9,
     "metadata": {},
     "output_type": "execute_result"
    },
    {
     "data": {
      "image/png": "[encoded data removed]",
      "text/plain": [
       "<Figure size 432x288 with 1 Axes>"
      ]
     },
     "metadata": {
      "needs_background": "light"
     },
     "output_type": "display_data"
    }
   ],
   "source": [
    "sns.distplot(users.n_puntuaciones)\n",
    "users.n_puntuaciones.describe().compute()"
   ]
  },
  {
   "cell_type": "markdown",
   "metadata": {},
   "source": [
    "### 3.2.-  Conclusiones de la Exploración\n",
    "La media de las puntuaciones de los usuarios es 8.2277 con una aumento en la puntuación 10. A priori se esperaría puntuaciones más centrado en 5, que no sea así puede explicarse suponiendo el sesgo de que esta base esté hecha con personas a las que en general simplemente les gusta el anime. Sabemos que las puntuaciones se realizan en numeros enteros, por lo tanto podemos decir que puntuaciones menores qué 8 significarían algo como \"me gustó pero no tanto\", mientras que las superiores a 8 son verdaderas medidas de que les gusto, a la vez que la puntuación 8 significaría algo como \"me gustó lo mismo que la mayoría\"."
   ]
  },
  {
   "cell_type": "markdown",
   "metadata": {},
   "source": [
    "## 4.- Selección de datos utiles\n",
    "\n",
    "Nos interesan los usuarios que hayan evaluado almenos 1 anime, y sin considerar las valoraciones -1 ya que no aportan información a los ratings. Además tampoco nos sirven usuarios con muy pocas valoraciones"
   ]
  },
  {
   "cell_type": "code",
   "execution_count": 10,
   "metadata": {},
   "outputs": [
    {
     "name": "stdout",
     "output_type": "stream",
     "text": [
      "3915  usuarios perdidos\n"
     ]
    }
   ],
   "source": [
    "# Esto significa:\n",
    "sin_puntuaciones=ratings.groupby(['user_id']).agg({'user_rating':['count','sum']})\n",
    "print (len(sin_puntuaciones[-sin_puntuaciones['user_rating','sum']==sin_puntuaciones['user_rating','count']]),' usuarios perdidos')"
   ]
  },
  {
   "cell_type": "code",
   "execution_count": 11,
   "metadata": {},
   "outputs": [],
   "source": [
    "#Nos deshacemos de ambos\n",
    "ratings=ratings[ratings.user_rating>0]"
   ]
  },
  {
   "cell_type": "markdown",
   "metadata": {},
   "source": [
    "##### Tampoco nos sirven usuarios con muy pocas valoraciones, no nos gustaría perder más de un 10%"
   ]
  },
  {
   "cell_type": "code",
   "execution_count": 12,
   "metadata": {},
   "outputs": [],
   "source": [
    "users=ratings.groupby('user_id').agg({'user_rating':['mean','count','std']})\n",
    "users.columns=['MPRU','n_puntuaciones','std_puntuaciones']"
   ]
  },
  {
   "cell_type": "code",
   "execution_count": 13,
   "metadata": {},
   "outputs": [
    {
     "data": {
      "text/plain": [
       "4.668103448275862"
      ]
     },
     "execution_count": 13,
     "metadata": {},
     "output_type": "execute_result"
    }
   ],
   "source": [
    "# %  de perdida de usuarios con solo una puntuación:\n",
    "100*len(users[users.n_puntuaciones<=1])/len(users)"
   ]
  },
  {
   "cell_type": "code",
   "execution_count": 14,
   "metadata": {},
   "outputs": [
    {
     "data": {
      "text/plain": [
       "7.67816091954023"
      ]
     },
     "execution_count": 14,
     "metadata": {},
     "output_type": "execute_result"
    }
   ],
   "source": [
    "# % de perdida de usuarios con 2 o menos puntuaciones:\n",
    "100*len(users[users.n_puntuaciones<=2])/len(users)"
   ]
  },
  {
   "cell_type": "code",
   "execution_count": 15,
   "metadata": {},
   "outputs": [
    {
     "data": {
      "text/plain": [
       "10.225574712643677"
      ]
     },
     "execution_count": 15,
     "metadata": {},
     "output_type": "execute_result"
    }
   ],
   "source": [
    "# % de perdida de usuarios con 3 o menos puntuaciones:\n",
    "100*len(users[users.n_puntuaciones<=3])/len(users)"
   ]
  },
  {
   "cell_type": "markdown",
   "metadata": {},
   "source": [
    "##### Un 10.22% nos parece aceptable, por lo que usaremos usuarios con 4 o más puntuaciones."
   ]
  },
  {
   "cell_type": "code",
   "execution_count": 16,
   "metadata": {},
   "outputs": [],
   "source": [
    "#usuarios con 4 o más puntuaciones\n",
    "users=users[users.n_puntuaciones>3]"
   ]
  },
  {
   "cell_type": "code",
   "execution_count": 17,
   "metadata": {},
   "outputs": [],
   "source": [
    "#Juntamos los datasets para tener la informacipon completa\n",
    "data=dd.merge(ratings,users,on='user_id',how='inner')"
   ]
  },
  {
   "cell_type": "code",
   "execution_count": 18,
   "metadata": {},
   "outputs": [],
   "source": [
    "df=dd.merge(data[['user_id','anime_id','user_rating']],anime[['anime_id','name']],on='anime_id',how='left',indicator=True)"
   ]
  },
  {
   "cell_type": "code",
   "execution_count": 19,
   "metadata": {},
   "outputs": [
    {
     "data": {
      "text/html": [
       "<div>\n",
       "<style scoped>\n",
       "    .dataframe tbody tr th:only-of-type {\n",
       "        vertical-align: middle;\n",
       "    }\n",
       "\n",
       "    .dataframe tbody tr th {\n",
       "        vertical-align: top;\n",
       "    }\n",
       "\n",
       "    .dataframe thead th {\n",
       "        text-align: right;\n",
       "    }\n",
       "</style>\n",
       "<table border=\"1\" class=\"dataframe\">\n",
       "  <thead>\n",
       "    <tr style=\"text-align: right;\">\n",
       "      <th></th>\n",
       "      <th>user_id</th>\n",
       "      <th>anime_id</th>\n",
       "      <th>user_rating</th>\n",
       "      <th>name</th>\n",
       "      <th>_merge</th>\n",
       "    </tr>\n",
       "  </thead>\n",
       "  <tbody>\n",
       "    <tr>\n",
       "      <td>0</td>\n",
       "      <td>1</td>\n",
       "      <td>8074</td>\n",
       "      <td>10</td>\n",
       "      <td>Highschool of the Dead</td>\n",
       "      <td>both</td>\n",
       "    </tr>\n",
       "    <tr>\n",
       "      <td>1</td>\n",
       "      <td>1</td>\n",
       "      <td>11617</td>\n",
       "      <td>10</td>\n",
       "      <td>High School DxD</td>\n",
       "      <td>both</td>\n",
       "    </tr>\n",
       "    <tr>\n",
       "      <td>2</td>\n",
       "      <td>1</td>\n",
       "      <td>11757</td>\n",
       "      <td>10</td>\n",
       "      <td>Sword Art Online</td>\n",
       "      <td>both</td>\n",
       "    </tr>\n",
       "    <tr>\n",
       "      <td>3</td>\n",
       "      <td>1</td>\n",
       "      <td>15451</td>\n",
       "      <td>10</td>\n",
       "      <td>High School DxD New</td>\n",
       "      <td>both</td>\n",
       "    </tr>\n",
       "    <tr>\n",
       "      <td>4</td>\n",
       "      <td>3</td>\n",
       "      <td>20</td>\n",
       "      <td>8</td>\n",
       "      <td>Naruto</td>\n",
       "      <td>both</td>\n",
       "    </tr>\n",
       "  </tbody>\n",
       "</table>\n",
       "</div>"
      ],
      "text/plain": [
       "   user_id  anime_id  user_rating                    name _merge\n",
       "0        1      8074           10  Highschool of the Dead   both\n",
       "1        1     11617           10         High School DxD   both\n",
       "2        1     11757           10        Sword Art Online   both\n",
       "3        1     15451           10     High School DxD New   both\n",
       "4        3        20            8                  Naruto   both"
      ]
     },
     "execution_count": 19,
     "metadata": {},
     "output_type": "execute_result"
    }
   ],
   "source": [
    "df.head()"
   ]
  },
  {
   "cell_type": "markdown",
   "metadata": {},
   "source": [
    "###### Es posible que algunos datos no nos hayam cruzado, revisemos."
   ]
  },
  {
   "cell_type": "code",
   "execution_count": 20,
   "metadata": {},
   "outputs": [
    {
     "data": {
      "text/plain": [
       "2"
      ]
     },
     "execution_count": 20,
     "metadata": {},
     "output_type": "execute_result"
    }
   ],
   "source": [
    "#Revisemos Cuantos no nos cruzaron.\n",
    "len(data)-len(df[df._merge=='both'])"
   ]
  },
  {
   "cell_type": "code",
   "execution_count": 21,
   "metadata": {},
   "outputs": [
    {
     "data": {
      "text/plain": [
       "array([30913], dtype=int64)"
      ]
     },
     "execution_count": 21,
     "metadata": {},
     "output_type": "execute_result"
    }
   ],
   "source": [
    "#Esto significa que hay animes id sin nombre correspondiente.\n",
    "df.anime_id[df['_merge']=='left_only'].compute().unique()"
   ]
  },
  {
   "cell_type": "markdown",
   "metadata": {},
   "source": [
    "El anime_id 30913 no tiene un nombre correspondiente, y ha sido puntuado en dos ocasiones."
   ]
  },
  {
   "cell_type": "code",
   "execution_count": 22,
   "metadata": {},
   "outputs": [],
   "source": [
    "#dejamos fuera aquellas filas cuyo anime_id no se corresponde entre los dos sets.\n",
    "df=df[df._merge=='both']"
   ]
  },
  {
   "cell_type": "code",
   "execution_count": 23,
   "metadata": {},
   "outputs": [],
   "source": [
    "#Armamos un dataset con los tres atributos principales, posteriormente le pondremos nombres a los animes.\n",
    "df_triple=df[['user_id','anime_id','user_rating']]"
   ]
  },
  {
   "cell_type": "code",
   "execution_count": 24,
   "metadata": {},
   "outputs": [
    {
     "data": {
      "text/plain": [
       "6324481"
      ]
     },
     "execution_count": 24,
     "metadata": {},
     "output_type": "execute_result"
    }
   ],
   "source": [
    "len(df_triple)"
   ]
  },
  {
   "cell_type": "code",
   "execution_count": 25,
   "metadata": {},
   "outputs": [],
   "source": [
    "reader = Reader(rating_scale=(1.0, 10.0))\n",
    "data = Dataset.load_from_df(df_triple[['user_id', 'anime_id', 'user_rating']], reader)"
   ]
  },
  {
   "cell_type": "markdown",
   "metadata": {},
   "source": [
    "## 5.- Escogiendo el Mejor Algoritmo\n",
    "Probaremos 3 algoritmos que por lo general dan buenos resultados, todos disponibles en la libreria \"Surprise\".\n",
    "\n",
    "### BaselineOnly\n",
    "Este algoritmo basico predice de la siguiente forma:\n",
    "\n",
    "$$b_{ui} = \\mu + b_{u} + b_{i}$$\n",
    "\n",
    "donde $b_{ui}$ es la puntuación desconocida, $\\mu$ la puntuación media del anime, $b_{u}$ es la desviación de puntuaciones del usuario, y $b_{i}$ la desviación de este anime con respecto a la media del total de puntuaciones.\n",
    "\n",
    "Por ejemplo, supongamos que queremos una estimación de la calificación de Fullmetal Alchemist Brotherhood por un usuario X digamos que la calificación promedio de todas los animes $\\mu$, es de 8.2  Además, FMA Brotherhood es mejor\n",
    "que un anime promedio, por lo que digamos que tiene una puntuación 1.5 por encima del promedio ( $b_{i}$ ). Por otro lado, X es un usuario exigente que tiende a calificar 0.3 más bajo que el promedio ( $b_{u}$ ). Por lo tanto, la estimación de Baseline sería:\n",
    "$$ 8.2-0.3+1.5=9.4$$\n",
    "\n",
    "http://courses.ischool.berkeley.edu/i290-dm/s11/SECURE/a1-koren.pdf\n",
    "\n",
    "https://surprise.readthedocs.io/en/stable/basic_algorithms.html"
   ]
  },
  {
   "cell_type": "code",
   "execution_count": 26,
   "metadata": {},
   "outputs": [
    {
     "name": "stdout",
     "output_type": "stream",
     "text": [
      "Estimating biases using als...\n",
      "Estimating biases using als...\n",
      "Estimating biases using als...\n",
      "Estimating biases using als...\n",
      "Estimating biases using als...\n"
     ]
    }
   ],
   "source": [
    "#El performance del algoritmo estara dado por una validación cruzada de 5 iteraciones.\n",
    "#El conjunto de testeo es una valoración por usuario en el dataset.\n",
    "results = cross_validate(BaselineOnly(), data, measures=['RMSE'], cv=5, verbose=False)\n",
    "basel = pd.DataFrame.from_dict(results).mean(axis=0)\n",
    "basel = basel.append(pd.Series([str(BaselineOnly()).split(' ')[0].split('.')[-1]], index=['BaselineOnly()']))"
   ]
  },
  {
   "cell_type": "code",
   "execution_count": 27,
   "metadata": {},
   "outputs": [
    {
     "data": {
      "text/plain": [
       "test_rmse              1.20526\n",
       "fit_time               21.7878\n",
       "test_time              10.1659\n",
       "BaselineOnly()    BaselineOnly\n",
       "dtype: object"
      ]
     },
     "execution_count": 27,
     "metadata": {},
     "output_type": "execute_result"
    }
   ],
   "source": [
    "basel"
   ]
  },
  {
   "cell_type": "markdown",
   "metadata": {},
   "source": [
    "### Co-Clustering\n",
    "\n",
    "Tanto a los usuarios como a los elementos se les asignan clusters $C_u$ y $C_i$  respectivamente, y algunos co-clusters $C_{ui}$.\n",
    "\n",
    "La predicción se hace de la siguiente forma:\n",
    "$$\\hat{r}_{ui} = \\overline{C_{ui}} + (\\mu_u - \\overline{C_u}) + (\\mu_i- \\overline{C_i})$$\n",
    "donde $\\overline{C_{ui}}$ es la calificación promedio de los co-clusters. $\\overline{C_u}$ es La calificación promedio de los clusters de usuarios está denotada  y  $\\overline{C_u}$ es la calificación del cluster de elementos (items). $\\mu_u$ es la media de la puntuación del usuario u, y $\\mu_i$ es la media de puntuaciones dado al item i.\n",
    "\n",
    "https://citeseerx.ist.psu.edu/viewdoc/download?doi=10.1.1.113.6458&rep=rep1&type=pdf\n",
    "\n",
    "https://surprise.readthedocs.io/en/stable/notation_standards.html#george-2005"
   ]
  },
  {
   "cell_type": "code",
   "execution_count": 28,
   "metadata": {},
   "outputs": [],
   "source": [
    "#El performance del algoritmo estara dado por una validación cruzada de 5 iteraciones.\n",
    "#El conjunto de testeo es una valoración por usuario en el dataset.\n",
    "results = cross_validate(CoClustering(), data, measures=['RMSE'], cv=5, verbose=False)\n",
    "coclus = pd.DataFrame.from_dict(results).mean(axis=0)\n",
    "coclus = coclus.append(pd.Series([str(CoClustering()).split(' ')[0].split('.')[-1]], index=['CoClustering()']))"
   ]
  },
  {
   "cell_type": "code",
   "execution_count": 29,
   "metadata": {},
   "outputs": [
    {
     "data": {
      "text/plain": [
       "test_rmse               1.2096\n",
       "fit_time               132.466\n",
       "test_time              11.8473\n",
       "CoClustering()    CoClustering\n",
       "dtype: object"
      ]
     },
     "execution_count": 29,
     "metadata": {},
     "output_type": "execute_result"
    }
   ],
   "source": [
    "coclus"
   ]
  },
  {
   "cell_type": "markdown",
   "metadata": {},
   "source": [
    "### SlopeOne\n",
    "Sus predicciones se definen como:\n",
    "$$ \\hat{r}_{ui} = \\mu_u + \\frac{1}{|R_i(u)|}\\sum\\limits_{j \\in R_i(u)} \\text{dev}(i, j)$$\n",
    "    donde$R_i(u)$ es el conjunto de elementos relevantes, es decir, el conjunto de elementos j valorados por por el usuario u que también tienen al menos un usuario común con i. Además $\\text{dev}(i, j)$ se define como la diferencia promedio entre las calificaciones de i y las de j.\n",
    " \n",
    "  \"Los algoritmos de Slope One son fáciles de implementar, eficientes para consultar, razonablemente precisos y admiten consultas en línea y actualizaciones dinámicas, lo que los convierte en buenos candidatos para sistemas del mundo real. El esquema básico de pendiente uno se sugiere como un nuevo esquema de referencia para el filtrado colaborativo. Al tener en cuenta los elementos que a un usuario le gustaron por separado de los elementos que no le gustaron, logramos resultados competitivos...\"\n",
    "    \n",
    "https://arxiv.org/abs/cs/0702144\n",
    "\n",
    "https://surprise.readthedocs.io/en/stable/slope_one.html#surprise.prediction_algorithms.slope_one.SlopeOne"
   ]
  },
  {
   "cell_type": "code",
   "execution_count": 30,
   "metadata": {},
   "outputs": [],
   "source": [
    "#El performance del algoritmo estara dado por una validación cruzada de 5 iteraciones.\n",
    "#El conjunto de testeo es una valoración por usuario en el dataset.\n",
    "results = cross_validate(SlopeOne(), data, measures=['RMSE'], cv=5, verbose=False)\n",
    "slope = pd.DataFrame.from_dict(results).mean(axis=0)\n",
    "slope = slope.append(pd.Series([str(SlopeOne()).split(' ')[0].split('.')[-1]], index=['SlopeOne()']))\n",
    "winsound.Beep(freq, duration)"
   ]
  },
  {
   "cell_type": "code",
   "execution_count": 31,
   "metadata": {},
   "outputs": [
    {
     "data": {
      "text/plain": [
       "test_rmse      1.19573\n",
       "fit_time       72.4966\n",
       "test_time      215.465\n",
       "SlopeOne()    SlopeOne\n",
       "dtype: object"
      ]
     },
     "execution_count": 31,
     "metadata": {},
     "output_type": "execute_result"
    }
   ],
   "source": [
    "slope"
   ]
  },
  {
   "cell_type": "markdown",
   "metadata": {},
   "source": [
    "###### El algoritmo con mejor desempeño en terminos de error cuadratico medio del conjunto de testeo es SlopeOne, veamos como se comporta con un set de testeo del 20%."
   ]
  },
  {
   "cell_type": "code",
   "execution_count": 32,
   "metadata": {},
   "outputs": [
    {
     "name": "stdout",
     "output_type": "stream",
     "text": [
      "RMSE: 1.1959\n"
     ]
    }
   ],
   "source": [
    "trainset, testset = train_test_split(data, test_size=0.20)\n",
    "slopeone=SlopeOne()\n",
    "predict_test = slopeone.fit(trainset).test(testset)\n",
    "accuracy.rmse(predict_test)\n",
    "\n",
    "winsound.Beep(freq, duration)"
   ]
  },
  {
   "cell_type": "markdown",
   "metadata": {},
   "source": [
    "###### Hagamos un top por usuario con los resultados"
   ]
  },
  {
   "cell_type": "code",
   "execution_count": 33,
   "metadata": {},
   "outputs": [],
   "source": [
    "def top(user,predict_test=predict_test,anime=anime):\n",
    "    anime=anime[['anime_id','name']]\n",
    "    predichos=dd.from_pandas(pd.DataFrame.from_records(predict_test), npartitions=6)\n",
    "    predichos=predichos[[0,1,2,3]]\n",
    "    predichos.columns=['user_id','anime_id','p_real','p_predicha']\n",
    "    predichos=predichos[predichos.user_id==user]\n",
    "    predichos.p_predicha=predichos.p_predicha.round(decimals=0)\n",
    "    predichos=predichos.compute()\n",
    "    #Ya lo redujimos lo suficiente como para usar pandas con normalidad.\n",
    "    predichos=pd.DataFrame(predichos.sort_values(by='p_predicha',ascending=False).head(3))\n",
    "    return(pd.merge(predichos,anime.compute(),on='anime_id',how='inner'))"
   ]
  },
  {
   "cell_type": "code",
   "execution_count": 34,
   "metadata": {},
   "outputs": [],
   "source": [
    "predichos=dd.from_pandas(pd.DataFrame.from_records(predict_test), npartitions=6)\n",
    "predichos=predichos[[0,1,2,3]]\n",
    "predichos.columns=['user_id','anime_id','p_real','p_predicha']"
   ]
  },
  {
   "cell_type": "markdown",
   "metadata": {},
   "source": [
    "##### Juguemos un poco ahora\n",
    "p_real - Es la puntuación que realmente dieron, por supuesto el algoritmo no tomo en cuenta estas puntuaciones para su predicción.\n",
    "\n",
    "p_predicha - Es la puntuación predicha por el algoritmo."
   ]
  },
  {
   "cell_type": "code",
   "execution_count": 35,
   "metadata": {},
   "outputs": [
    {
     "data": {
      "text/html": [
       "<div>\n",
       "<style scoped>\n",
       "    .dataframe tbody tr th:only-of-type {\n",
       "        vertical-align: middle;\n",
       "    }\n",
       "\n",
       "    .dataframe tbody tr th {\n",
       "        vertical-align: top;\n",
       "    }\n",
       "\n",
       "    .dataframe thead th {\n",
       "        text-align: right;\n",
       "    }\n",
       "</style>\n",
       "<table border=\"1\" class=\"dataframe\">\n",
       "  <thead>\n",
       "    <tr style=\"text-align: right;\">\n",
       "      <th></th>\n",
       "      <th>user_id</th>\n",
       "      <th>anime_id</th>\n",
       "      <th>p_real</th>\n",
       "      <th>p_predicha</th>\n",
       "      <th>name</th>\n",
       "    </tr>\n",
       "  </thead>\n",
       "  <tbody>\n",
       "    <tr>\n",
       "      <td>0</td>\n",
       "      <td>33888</td>\n",
       "      <td>22535</td>\n",
       "      <td>9.0</td>\n",
       "      <td>9.0</td>\n",
       "      <td>Kiseijuu: Sei no Kakuritsu</td>\n",
       "    </tr>\n",
       "    <tr>\n",
       "      <td>1</td>\n",
       "      <td>33888</td>\n",
       "      <td>2904</td>\n",
       "      <td>8.0</td>\n",
       "      <td>9.0</td>\n",
       "      <td>Code Geass: Hangyaku no Lelouch R2</td>\n",
       "    </tr>\n",
       "    <tr>\n",
       "      <td>2</td>\n",
       "      <td>33888</td>\n",
       "      <td>30240</td>\n",
       "      <td>7.0</td>\n",
       "      <td>8.0</td>\n",
       "      <td>Prison School</td>\n",
       "    </tr>\n",
       "  </tbody>\n",
       "</table>\n",
       "</div>"
      ],
      "text/plain": [
       "   user_id  anime_id  p_real  p_predicha                                name\n",
       "0    33888     22535     9.0         9.0          Kiseijuu: Sei no Kakuritsu\n",
       "1    33888      2904     8.0         9.0  Code Geass: Hangyaku no Lelouch R2\n",
       "2    33888     30240     7.0         8.0                       Prison School"
      ]
     },
     "execution_count": 35,
     "metadata": {},
     "output_type": "execute_result"
    }
   ],
   "source": [
    "top(33888)"
   ]
  },
  {
   "cell_type": "code",
   "execution_count": 36,
   "metadata": {},
   "outputs": [
    {
     "data": {
      "text/html": [
       "<div>\n",
       "<style scoped>\n",
       "    .dataframe tbody tr th:only-of-type {\n",
       "        vertical-align: middle;\n",
       "    }\n",
       "\n",
       "    .dataframe tbody tr th {\n",
       "        vertical-align: top;\n",
       "    }\n",
       "\n",
       "    .dataframe thead th {\n",
       "        text-align: right;\n",
       "    }\n",
       "</style>\n",
       "<table border=\"1\" class=\"dataframe\">\n",
       "  <thead>\n",
       "    <tr style=\"text-align: right;\">\n",
       "      <th></th>\n",
       "      <th>user_id</th>\n",
       "      <th>anime_id</th>\n",
       "      <th>p_real</th>\n",
       "      <th>p_predicha</th>\n",
       "      <th>name</th>\n",
       "    </tr>\n",
       "  </thead>\n",
       "  <tbody>\n",
       "    <tr>\n",
       "      <td>0</td>\n",
       "      <td>28859</td>\n",
       "      <td>22297</td>\n",
       "      <td>7.0</td>\n",
       "      <td>7.0</td>\n",
       "      <td>Fate/stay night: Unlimited Blade Works</td>\n",
       "    </tr>\n",
       "    <tr>\n",
       "      <td>1</td>\n",
       "      <td>28859</td>\n",
       "      <td>19</td>\n",
       "      <td>7.0</td>\n",
       "      <td>7.0</td>\n",
       "      <td>Monster</td>\n",
       "    </tr>\n",
       "    <tr>\n",
       "      <td>2</td>\n",
       "      <td>28859</td>\n",
       "      <td>6746</td>\n",
       "      <td>9.0</td>\n",
       "      <td>7.0</td>\n",
       "      <td>Durarara!!</td>\n",
       "    </tr>\n",
       "  </tbody>\n",
       "</table>\n",
       "</div>"
      ],
      "text/plain": [
       "   user_id  anime_id  p_real  p_predicha  \\\n",
       "0    28859     22297     7.0         7.0   \n",
       "1    28859        19     7.0         7.0   \n",
       "2    28859      6746     9.0         7.0   \n",
       "\n",
       "                                     name  \n",
       "0  Fate/stay night: Unlimited Blade Works  \n",
       "1                                 Monster  \n",
       "2                              Durarara!!  "
      ]
     },
     "execution_count": 36,
     "metadata": {},
     "output_type": "execute_result"
    }
   ],
   "source": [
    "top(28859)"
   ]
  },
  {
   "cell_type": "code",
   "execution_count": 37,
   "metadata": {},
   "outputs": [
    {
     "data": {
      "text/html": [
       "<div>\n",
       "<style scoped>\n",
       "    .dataframe tbody tr th:only-of-type {\n",
       "        vertical-align: middle;\n",
       "    }\n",
       "\n",
       "    .dataframe tbody tr th {\n",
       "        vertical-align: top;\n",
       "    }\n",
       "\n",
       "    .dataframe thead th {\n",
       "        text-align: right;\n",
       "    }\n",
       "</style>\n",
       "<table border=\"1\" class=\"dataframe\">\n",
       "  <thead>\n",
       "    <tr style=\"text-align: right;\">\n",
       "      <th></th>\n",
       "      <th>user_id</th>\n",
       "      <th>anime_id</th>\n",
       "      <th>p_real</th>\n",
       "      <th>p_predicha</th>\n",
       "      <th>name</th>\n",
       "    </tr>\n",
       "  </thead>\n",
       "  <tbody>\n",
       "    <tr>\n",
       "      <td>0</td>\n",
       "      <td>5255</td>\n",
       "      <td>28977</td>\n",
       "      <td>10.0</td>\n",
       "      <td>10.0</td>\n",
       "      <td>Gintama°</td>\n",
       "    </tr>\n",
       "    <tr>\n",
       "      <td>1</td>\n",
       "      <td>5255</td>\n",
       "      <td>16498</td>\n",
       "      <td>10.0</td>\n",
       "      <td>9.0</td>\n",
       "      <td>Shingeki no Kyojin</td>\n",
       "    </tr>\n",
       "    <tr>\n",
       "      <td>2</td>\n",
       "      <td>5255</td>\n",
       "      <td>269</td>\n",
       "      <td>10.0</td>\n",
       "      <td>9.0</td>\n",
       "      <td>Bleach</td>\n",
       "    </tr>\n",
       "  </tbody>\n",
       "</table>\n",
       "</div>"
      ],
      "text/plain": [
       "   user_id  anime_id  p_real  p_predicha                name\n",
       "0     5255     28977    10.0        10.0            Gintama°\n",
       "1     5255     16498    10.0         9.0  Shingeki no Kyojin\n",
       "2     5255       269    10.0         9.0              Bleach"
      ]
     },
     "execution_count": 37,
     "metadata": {},
     "output_type": "execute_result"
    }
   ],
   "source": [
    "top(5255)"
   ]
  },
  {
   "cell_type": "code",
   "execution_count": 38,
   "metadata": {},
   "outputs": [
    {
     "data": {
      "text/html": [
       "<div>\n",
       "<style scoped>\n",
       "    .dataframe tbody tr th:only-of-type {\n",
       "        vertical-align: middle;\n",
       "    }\n",
       "\n",
       "    .dataframe tbody tr th {\n",
       "        vertical-align: top;\n",
       "    }\n",
       "\n",
       "    .dataframe thead th {\n",
       "        text-align: right;\n",
       "    }\n",
       "</style>\n",
       "<table border=\"1\" class=\"dataframe\">\n",
       "  <thead>\n",
       "    <tr style=\"text-align: right;\">\n",
       "      <th></th>\n",
       "      <th>user_id</th>\n",
       "      <th>anime_id</th>\n",
       "      <th>p_real</th>\n",
       "      <th>p_predicha</th>\n",
       "      <th>name</th>\n",
       "    </tr>\n",
       "  </thead>\n",
       "  <tbody>\n",
       "    <tr>\n",
       "      <td>0</td>\n",
       "      <td>65451</td>\n",
       "      <td>30276</td>\n",
       "      <td>9.0</td>\n",
       "      <td>8.0</td>\n",
       "      <td>One Punch Man</td>\n",
       "    </tr>\n",
       "    <tr>\n",
       "      <td>1</td>\n",
       "      <td>65451</td>\n",
       "      <td>9989</td>\n",
       "      <td>6.0</td>\n",
       "      <td>8.0</td>\n",
       "      <td>Ano Hi Mita Hana no Namae wo Bokutachi wa Mada...</td>\n",
       "    </tr>\n",
       "    <tr>\n",
       "      <td>2</td>\n",
       "      <td>65451</td>\n",
       "      <td>11111</td>\n",
       "      <td>8.0</td>\n",
       "      <td>7.0</td>\n",
       "      <td>Another</td>\n",
       "    </tr>\n",
       "  </tbody>\n",
       "</table>\n",
       "</div>"
      ],
      "text/plain": [
       "   user_id  anime_id  p_real  p_predicha  \\\n",
       "0    65451     30276     9.0         8.0   \n",
       "1    65451      9989     6.0         8.0   \n",
       "2    65451     11111     8.0         7.0   \n",
       "\n",
       "                                                name  \n",
       "0                                      One Punch Man  \n",
       "1  Ano Hi Mita Hana no Namae wo Bokutachi wa Mada...  \n",
       "2                                            Another  "
      ]
     },
     "execution_count": 38,
     "metadata": {},
     "output_type": "execute_result"
    }
   ],
   "source": [
    "top(65451)"
   ]
  }
 ],
 "metadata": {
  "kernelspec": {
   "display_name": "Python 3",
   "language": "python",
   "name": "python3"
  },
  "language_info": {
   "codemirror_mode": {
    "name": "ipython",
    "version": 3
   },
   "file_extension": ".py",
   "mimetype": "text/x-python",
   "name": "python",
   "nbconvert_exporter": "python",
   "pygments_lexer": "ipython3",
   "version": "3.7.4"
  }
 },
 "nbformat": 4,
 "nbformat_minor": 2
}
